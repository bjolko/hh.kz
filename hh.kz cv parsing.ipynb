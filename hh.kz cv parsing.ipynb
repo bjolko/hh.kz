{
 "cells": [
  {
   "cell_type": "markdown",
   "metadata": {},
   "source": [
    "# hh.kz CV analysis"
   ]
  },
  {
   "cell_type": "markdown",
   "metadata": {},
   "source": [
    "I wanted to know two things:\n",
    "\n",
    "1. If women really asks for smaller salary then men\n",
    "2. Who are people on Data Science market of KZ\n",
    "\n",
    "So I parsed open resumes from hh.kz for data people, finance and frontend."
   ]
  },
  {
   "cell_type": "markdown",
   "metadata": {},
   "source": [
    "## Libraries"
   ]
  },
  {
   "cell_type": "code",
   "execution_count": 1,
   "metadata": {},
   "outputs": [],
   "source": [
    "options(repr.plot.width = 5, repr.plot.height = 3, scipen = 999, warn = -1)"
   ]
  },
  {
   "cell_type": "code",
   "execution_count": 2,
   "metadata": {},
   "outputs": [
    {
     "name": "stderr",
     "output_type": "stream",
     "text": [
      "Loading required package: bitops\n"
     ]
    }
   ],
   "source": [
    "library(xml2)\n",
    "library(rvest)\n",
    "library(httr)\n",
    "library(stringr)\n",
    "library(RCurl)"
   ]
  },
  {
   "cell_type": "markdown",
   "metadata": {},
   "source": [
    "## Functions & Settings"
   ]
  },
  {
   "cell_type": "code",
   "execution_count": 3,
   "metadata": {},
   "outputs": [],
   "source": [
    "getProxy  <- function(url) {\n",
    "    \n",
    "    ### Magical function to get proxy settings\n",
    "    \n",
    "}"
   ]
  },
  {
   "cell_type": "code",
   "execution_count": 4,
   "metadata": {},
   "outputs": [],
   "source": [
    "read_with_proxy <- function(site_url) {\n",
    "    \n",
    "    ### Read webpage with proxy settings\n",
    "    \n",
    "    getURL(url = site_url, .opts = setProxyOpts(proxy = proxy)) %>% \n",
    "    read_html(url)\n",
    "}    "
   ]
  },
  {
   "cell_type": "code",
   "execution_count": 5,
   "metadata": {},
   "outputs": [],
   "source": [
    "cv_search_url <- function(keyword, page = '0') {\n",
    "    \n",
    "    ### Make search url by keyword\n",
    "    ### Settings: search only in CV title, all phrase, default page number is 0\n",
    "    \n",
    "    paste0('https://hh.kz/search/resume?text=', keyword, '&logic=phrase&pos=position&exp_period=last_year&clusters=true&area=40&currency_code=KZT&order_by=relevance&no_magic=false&page=', page)\n",
    "}\n",
    "\n",
    "cv_search_url_salary <- function(keyword, page = '0') {\n",
    "    \n",
    "    ### Make search url by keyword\n",
    "    ### Settings: search only in CV title, all phrase, default page number is 0, indicated salary less then 1 mln KZT\n",
    "    \n",
    "    paste0('https://hh.kz/search/resume?text=', keyword, '&logic=phrase&pos=position&exp_period=last_year&salary_to=1000000&clusters=true&area=40&currency_code=KZT&order_by=relevance&no_magic=false&page=', page)\n",
    "}\n",
    "\n",
    "number_of_pages <- function(webpage) {\n",
    "    \n",
    "    ### Count number of pages for a search by keyword\n",
    "    ### 20 CVs per page\n",
    "    \n",
    "    number_of_cvs <- \n",
    "    webpage %>% \n",
    "    html_nodes('[data-qa = page-title]') %>% \n",
    "    html_text() %>% \n",
    "    str_extract('Найдено.+?резюме') %>% \n",
    "    str_remove_all('[^[:digit:]]') %>% \n",
    "    as.numeric\n",
    "    \n",
    "    cvs_per_page <- 20\n",
    "    \n",
    "    floor(number_of_cvs / cvs_per_page)\n",
    "}\n",
    "\n",
    "get_cv_ids <- function(webpage) {\n",
    "    \n",
    "    ### Get CV ids from search page\n",
    "    \n",
    "    webpage %>% \n",
    "    html_nodes('[itemprop = jobTitle]') %>% \n",
    "    as.character() %>% \n",
    "    str_extract_all(pattern = '/resume/.{38}') %>% \n",
    "    str_remove_all('/resume/')\n",
    "}"
   ]
  },
  {
   "cell_type": "code",
   "execution_count": 6,
   "metadata": {},
   "outputs": [],
   "source": [
    "get_data <- function(webpage = cv_webpage, item) {\n",
    "    \n",
    "    ### Parse CV data by item\n",
    "    ### If item is empty returns NA\n",
    "    ### else concatenate all data, i.e. all education, experience and skills \n",
    "    \n",
    "    tmp <- \n",
    "    html_nodes(webpage, item) %>% \n",
    "    html_text()\n",
    "    \n",
    "    if (length(tmp) == 0) {\n",
    "        NA\n",
    "    } else {\n",
    "        tmp %>% \n",
    "        unique %>% \n",
    "        paste(collapse = '_')  %>% \n",
    "        str_trim\n",
    "    }\n",
    "}"
   ]
  },
  {
   "cell_type": "code",
   "execution_count": 7,
   "metadata": {},
   "outputs": [],
   "source": [
    "cv_parse  <- function(site_url) {\n",
    "    \n",
    "    ### Parse all CV data and append to cvs dataframe\n",
    "    \n",
    "    # read CV webpage with proxy settings\n",
    "    cv_webpage <<- read_with_proxy(site_url)\n",
    "    \n",
    "    # parse data\n",
    "    \n",
    "    position  <- get_data(item = '[data-qa = resume-block-title-position]')\n",
    "\n",
    "    sex  <- get_data(item = '[data-qa = resume-personal-gender]')\n",
    "\n",
    "    age  <- get_data(item = '[data-qa = resume-personal-age]')\n",
    "\n",
    "    city  <- get_data(item = '[data-qa = resume-personal-address]')\n",
    "\n",
    "    salary  <- get_data(item = '[data-qa = resume-block-salary]')\n",
    "\n",
    "    experience_years  <- \n",
    "    html_nodes(cv_webpage, '[data-qa = resume-block-experience]') %>% \n",
    "    get_data(item = '.resume-block__title-text') %>% \n",
    "    str_remove_all('Опыт работы |Work experience ')\n",
    "\n",
    "    experience_companies  <-\n",
    "    html_nodes(cv_webpage, '[data-qa = resume-block-experience]') %>% \n",
    "    get_data(item = '[itemprop = name]')    \n",
    "\n",
    "    education  <- \n",
    "    html_nodes(cv_webpage, '[data-qa = resume-block-education]') %>% \n",
    "    get_data(item = '[data-qa = resume-block-education-name]')\n",
    "\n",
    "    skills  <- \n",
    "    html_nodes(cv_webpage, '[data-qa = skills-table]') %>% \n",
    "    get_data('[data-qa = bloko-tag__text]')\n",
    "    \n",
    "    # append data to cvs dataframe\n",
    "    \n",
    "    cvs <<- rbind(cvs, data.frame(position, \n",
    "                             sex, \n",
    "                             age, \n",
    "                             city, \n",
    "                             salary, \n",
    "                             experience_years, \n",
    "                             experience_companies, \n",
    "                             education, \n",
    "                             skills, \n",
    "                             stringsAsFactors = F))\n",
    "}"
   ]
  },
  {
   "cell_type": "markdown",
   "metadata": {},
   "source": [
    "## Parsing"
   ]
  },
  {
   "cell_type": "code",
   "execution_count": 8,
   "metadata": {},
   "outputs": [],
   "source": [
    "# Empty DF for CVs\n",
    "\n",
    "cvs <- read.csv(text = 'position, sex, age, city, salary, experience_years, experience_companies, education,  skills', stringsAsFactors = F)\n",
    "\n",
    "ds_keywords  <- c('аналитик+данных', 'data+analyst', 'data+scientist')\n",
    "\n",
    "frontend_keywords <- c('верстальщик', 'frontend', 'фронтенд')\n",
    "\n",
    "finance_keywords  <- c('финансист')\n",
    "\n",
    "cv_url  <- 'https://hh.kz/resume/'\n",
    "\n",
    "cv_ids <- c()"
   ]
  },
  {
   "cell_type": "code",
   "execution_count": 9,
   "metadata": {},
   "outputs": [
    {
     "name": "stdout",
     "output_type": "stream",
     "text": [
      "[1] \"аналитик+данных\"\n",
      "[1] \"Pages: 1\"\n",
      "[1] \"Finished page: 1\"\n",
      "[1] \"data+analyst\"\n",
      "[1] \"Pages: 3\"\n",
      "[1] \"Finished page: 1\"\n",
      "[1] \"Finished page: 2\"\n",
      "[1] \"Finished page: 3\"\n",
      "[1] \"data+scientist\"\n",
      "[1] \"Pages: 4\"\n",
      "[1] \"Finished page: 1\"\n",
      "[1] \"Finished page: 2\"\n",
      "[1] \"Finished page: 3\"\n",
      "[1] \"Finished page: 4\"\n"
     ]
    }
   ],
   "source": [
    "salary = FALSE\n",
    "\n",
    "proxy <- getProxy()\n",
    "\n",
    "for (keyword in ds_keywords) {\n",
    "    \n",
    "    ### Get CV ids for all keywords\n",
    "    \n",
    "    print(keyword)\n",
    "    \n",
    "    if (salary == TRUE) {\n",
    "        \n",
    "        search_url <- cv_search_url_salary(keyword)\n",
    "        \n",
    "    } else {\n",
    "        \n",
    "        search_url <- cv_search_url(keyword)\n",
    "    }\n",
    "    \n",
    "    search_wp <- read_with_proxy(search_url)\n",
    "    \n",
    "    cv_ids <<- c(cv_ids, get_cv_ids(search_wp))\n",
    "    \n",
    "    pages <- number_of_pages(search_wp)\n",
    "    \n",
    "    print(paste0('Pages: ', pages + 1))\n",
    "    print(paste0('Finished page: ', 1))\n",
    "    \n",
    "    if (pages > 0) {\n",
    "        for (page in 1:pages) {\n",
    "            \n",
    "                if (salary == TRUE) {\n",
    "                    \n",
    "                    search_url <- cv_search_url_salary(keyword, page)\n",
    "                \n",
    "                } else {\n",
    "                    \n",
    "                    search_url <- cv_search_url(keyword, page)\n",
    "                }\n",
    "    \n",
    "            search_wp <- read_with_proxy(search_url)\n",
    "    \n",
    "            cv_ids <<- c(cv_ids, get_cv_ids(search_wp))\n",
    "            \n",
    "            print(paste0('Finished page: ', page + 1))\n",
    "        \n",
    "        }\n",
    "    }    \n",
    "}"
   ]
  },
  {
   "cell_type": "code",
   "execution_count": 10,
   "metadata": {},
   "outputs": [
    {
     "name": "stdout",
     "output_type": "stream",
     "text": [
      "CVs found: 120 \n",
      "\n",
      "Examples:ab08e92c00054e94250039ed1f723865427763 908e021d0001cf335f0039ed1f546530673341 6bdc1da70006d3a40b0039ed1f57616c724e6a"
     ]
    }
   ],
   "source": [
    "cv_ids  <- unique(cv_ids)\n",
    "\n",
    "cat('CVs found:', length(cv_ids), '\\n\\nExamples:')\n",
    "\n",
    "cat(cv_ids[1:3])"
   ]
  },
  {
   "cell_type": "code",
   "execution_count": 11,
   "metadata": {},
   "outputs": [],
   "source": [
    "#cvs <- read.csv(text = 'position, sex, age, city, salary, experience_years, experience_companies, education,  skills', stringsAsFactors = F)\n",
    "\n",
    "proxy <- getProxy()\n",
    "\n",
    "i = 1\n",
    "\n",
    "for (id in cv_ids) {\n",
    "    \n",
    "    ### Parse all CVs\n",
    "    \n",
    "    site_url  <- paste0(cv_url, id)\n",
    "    \n",
    "    cv_parse(site_url)\n",
    "    \n",
    "    i = i + 1\n",
    "}\n",
    "\n",
    "print(paste0('Parsed ', i, ' resumes'))"
   ]
  },
  {
   "cell_type": "code",
   "execution_count": 12,
   "metadata": {},
   "outputs": [],
   "source": [
    "#write.csv(cvs, 'dsml_cvs_data.csv', row.names = F)"
   ]
  },
  {
   "cell_type": "markdown",
   "metadata": {},
   "source": [
    "## Data Analysis"
   ]
  },
  {
   "cell_type": "code",
   "execution_count": 13,
   "metadata": {
    "scrolled": true
   },
   "outputs": [
    {
     "name": "stderr",
     "output_type": "stream",
     "text": [
      "\n",
      "Attaching package: 'dplyr'\n",
      "\n",
      "The following objects are masked from 'package:stats':\n",
      "\n",
      "    filter, lag\n",
      "\n",
      "The following objects are masked from 'package:base':\n",
      "\n",
      "    intersect, setdiff, setequal, union\n",
      "\n"
     ]
    }
   ],
   "source": [
    "library(dplyr)\n",
    "library(ggplot2)\n",
    "library(wordcloud2)\n",
    "library(ggthemes)\n",
    "library(ggthemr)\n",
    "ggthemr('dust')\n",
    "\n",
    "\n",
    "# Color palette for sex comparison\n",
    "sex_colors_dark <- c('#C84E9E', '#4881A9')"
   ]
  },
  {
   "cell_type": "code",
   "execution_count": 14,
   "metadata": {},
   "outputs": [],
   "source": [
    "k_formatter <- function(x){\n",
    "    \n",
    "    ### Form K numbers from thousands\n",
    "    \n",
    "    paste0(format(round(x/1000), big.mark = ' '), 'K')\n",
    "}\n",
    "\n",
    "prepare_df  <- function(df) { \n",
    "    \n",
    "    ### Extract data in needed form: text to num, recode strings to one language, remove non KZ cities,\n",
    "    ### calculate salary in KZT and total experience in num\n",
    "    \n",
    "    df %>% \n",
    "    filter(!city %in% c('Пермь', 'Минск', 'India', 'Moscow')) %>% \n",
    "    mutate(sex = recode(sex, 'Male' = 'Мужчина', 'Female' = 'Женщина', 'Ер' = 'Мужчина'),\n",
    "          age = as.numeric(str_extract_all(age, '[0-9]+')),\n",
    "          city = recode(city, 'Almaty' = 'Алматы', 'Atyrau' = 'Атырау', 'Nur-Sultan' = 'Нур-Султан', 'Shymkent' = 'Шымкент'),\n",
    "          salary = str_remove_all(salary, '\\\\<U\\\\+2009\\\\>'), \n",
    "          salary_currency = str_sub(salary, -3),\n",
    "          salary_value = as.numeric(str_remove_all(salary, '[^[:digit:]]')),\n",
    "          salary_kzt = ifelse(salary_currency == 'USD', salary_value * usd_to_kzt, salary_value),\n",
    "          exp_years = sub('(year|год|лет).*', '', experience_years),\n",
    "          exp_years = as.numeric(str_trim(ifelse(str_detect(exp_years, 'мес|month'), NA, exp_years))),\n",
    "          exp_months = as.numeric(str_trim(str_sub(str_trim(str_extract(experience_years, '.*(?=мес|month)')), -2))),\n",
    "          exp_total = ifelse(is.na(exp_years), 0, exp_years) + ifelse(is.na(exp_months), 0, exp_months) / 12)\n",
    "}\n",
    "\n",
    "build_plot <- function(df = finance_mod, profession = 'финансистов') {\n",
    "    \n",
    "    ### Calculate indicated salary distribution for different sex\n",
    "    \n",
    "    # Density plot\n",
    "    plot <- df %>% \n",
    "    filter(!is.na(salary_kzt)) %>% \n",
    "    ggplot(aes(x = salary_kzt, fill = sex)) +\n",
    "    geom_density(alpha = .55, color = NA) +\n",
    "    scale_fill_manual(values = sex_colors_dark) +\n",
    "    scale_x_continuous(label = k_formatter, limits = c(0, 500000), breaks = seq(0, 500000, 50000)) +\n",
    "    labs(x = '', y = '', title = '') +\n",
    "    theme(legend.position = 'none',\n",
    "        axis.ticks.x = element_blank(),\n",
    "        axis.text.y = element_blank(),\n",
    "        axis.ticks.y = element_blank(),\n",
    "        panel.background = element_rect(fill = '#FFF2D9'),\n",
    "        panel.grid.major.x = element_line(colour = '#FFD788', size = .25),\n",
    "        panel.grid.major.y = element_blank(),\n",
    "        panel.grid.minor = element_blank(),\n",
    "        plot.title = element_text(face = 'bold', size = 8),\n",
    "        plot.subtitle = element_text(face = 'italic'),\n",
    "        text = element_text(size = 6))\n",
    "\n",
    "    # Quantile stats\n",
    "    stats  <- df %>% \n",
    "    filter(!is.na(salary_kzt)) %>% \n",
    "    group_by(sex) %>% \n",
    "    summarise(cnt = n(), q25 = quantile(salary_kzt, .25), q50 = median(salary_kzt), q75 = quantile(salary_kzt, .75)) %>% \n",
    "    mutate_at(vars(contains('q')), ~scales::number(.)) %>% \n",
    "    setNames(c('Пол', 'Количество', '25%', 'Медиана', '75%'))\n",
    "    \n",
    "    #ggsave(paste0('./plots/', profession, '.svg'), plot, width = 3, height = 2)\n",
    "    stats\n",
    "}"
   ]
  },
  {
   "cell_type": "code",
   "execution_count": 15,
   "metadata": {},
   "outputs": [],
   "source": [
    "# USD to KZT rate\n",
    "\n",
    "proxy <- getProxy()\n",
    "\n",
    "usd_to_kzt <- \n",
    "    read_with_proxy('http://oibai.kz/') %>% \n",
    "    html_nodes('[id = usd_value]') %>% \n",
    "    html_text() %>% \n",
    "    str_remove_all('[^[:digit:]]') %>% \n",
    "    as.numeric(.)\n",
    "\n",
    "usd_to_kzt <- usd_to_kzt/100"
   ]
  },
  {
   "cell_type": "code",
   "execution_count": 16,
   "metadata": {},
   "outputs": [],
   "source": [
    "dsml <- data.table::fread('./data/dsml_cvs_data.csv')\n",
    "\n",
    "finance <- data.table::fread('./data/finance_cvs_data.csv')\n",
    "\n",
    "frontend <- data.table::fread('./data/frontend_cvs_data.csv')\n",
    "\n",
    "df_list  <- list(dsml, finance, frontend)"
   ]
  },
  {
   "cell_type": "code",
   "execution_count": 17,
   "metadata": {},
   "outputs": [
    {
     "name": "stdout",
     "output_type": "stream",
     "text": [
      "[1] 117   9\n",
      "[1] 502   9\n",
      "[1] 640   9\n"
     ]
    }
   ],
   "source": [
    "for (df in df_list) {\n",
    "    print(dim(df))\n",
    "}"
   ]
  },
  {
   "cell_type": "code",
   "execution_count": 18,
   "metadata": {},
   "outputs": [],
   "source": [
    "df_list_mod <- df_list %>% lapply(prepare_df)"
   ]
  },
  {
   "cell_type": "code",
   "execution_count": 19,
   "metadata": {},
   "outputs": [],
   "source": [
    "finance_mod <- df_list_mod[[2]]\n",
    "frontend_mod <- df_list_mod[[3]]\n",
    "\n",
    "dsml <- df_list_mod[[1]] %>% mutate(id = row_number(), skills = tolower(skills))"
   ]
  },
  {
   "cell_type": "markdown",
   "metadata": {},
   "source": [
    "## Salary comparison"
   ]
  },
  {
   "cell_type": "code",
   "execution_count": 20,
   "metadata": {},
   "outputs": [
    {
     "name": "stdout",
     "output_type": "stream",
     "text": [
      "Финансы"
     ]
    },
    {
     "data": {
      "text/html": [
       "<table>\n",
       "<caption>A tibble: 2 × 5</caption>\n",
       "<thead>\n",
       "\t<tr><th scope=col>Пол</th><th scope=col>Количество</th><th scope=col>25%</th><th scope=col>Медиана</th><th scope=col>75%</th></tr>\n",
       "\t<tr><th scope=col>&lt;chr&gt;</th><th scope=col>&lt;int&gt;</th><th scope=col>&lt;chr&gt;</th><th scope=col>&lt;chr&gt;</th><th scope=col>&lt;chr&gt;</th></tr>\n",
       "</thead>\n",
       "<tbody>\n",
       "\t<tr><td>Женщина</td><td>146</td><td>150 000</td><td>180 000</td><td>272 500</td></tr>\n",
       "\t<tr><td>Мужчина</td><td>129</td><td>150 000</td><td>200 000</td><td>300 000</td></tr>\n",
       "</tbody>\n",
       "</table>\n"
      ],
      "text/latex": [
       "A tibble: 2 × 5\n",
       "\\begin{tabular}{r|lllll}\n",
       " Пол & Количество & 25\\% & Медиана & 75\\%\\\\\n",
       " <chr> & <int> & <chr> & <chr> & <chr>\\\\\n",
       "\\hline\n",
       "\t Женщина & 146 & 150 000 & 180 000 & 272 500\\\\\n",
       "\t Мужчина & 129 & 150 000 & 200 000 & 300 000\\\\\n",
       "\\end{tabular}\n"
      ],
      "text/markdown": [
       "\n",
       "A tibble: 2 × 5\n",
       "\n",
       "| Пол &lt;chr&gt; | Количество &lt;int&gt; | 25% &lt;chr&gt; | Медиана &lt;chr&gt; | 75% &lt;chr&gt; |\n",
       "|---|---|---|---|---|\n",
       "| Женщина | 146 | 150 000 | 180 000 | 272 500 |\n",
       "| Мужчина | 129 | 150 000 | 200 000 | 300 000 |\n",
       "\n"
      ],
      "text/plain": [
       "  Пол     Количество 25%     Медиана 75%    \n",
       "1 Женщина 146        150 000 180 000 272 500\n",
       "2 Мужчина 129        150 000 200 000 300 000"
      ]
     },
     "metadata": {},
     "output_type": "display_data"
    },
    {
     "name": "stdout",
     "output_type": "stream",
     "text": [
      "\n",
      "Фронтенд"
     ]
    },
    {
     "data": {
      "text/html": [
       "<table>\n",
       "<caption>A tibble: 2 × 5</caption>\n",
       "<thead>\n",
       "\t<tr><th scope=col>Пол</th><th scope=col>Количество</th><th scope=col>25%</th><th scope=col>Медиана</th><th scope=col>75%</th></tr>\n",
       "\t<tr><th scope=col>&lt;chr&gt;</th><th scope=col>&lt;int&gt;</th><th scope=col>&lt;chr&gt;</th><th scope=col>&lt;chr&gt;</th><th scope=col>&lt;chr&gt;</th></tr>\n",
       "</thead>\n",
       "<tbody>\n",
       "\t<tr><td>Женщина</td><td>113</td><td>80 000</td><td>100 000</td><td>150 000</td></tr>\n",
       "\t<tr><td>Мужчина</td><td>267</td><td>90 000</td><td>150 000</td><td>200 000</td></tr>\n",
       "</tbody>\n",
       "</table>\n"
      ],
      "text/latex": [
       "A tibble: 2 × 5\n",
       "\\begin{tabular}{r|lllll}\n",
       " Пол & Количество & 25\\% & Медиана & 75\\%\\\\\n",
       " <chr> & <int> & <chr> & <chr> & <chr>\\\\\n",
       "\\hline\n",
       "\t Женщина & 113 & 80 000 & 100 000 & 150 000\\\\\n",
       "\t Мужчина & 267 & 90 000 & 150 000 & 200 000\\\\\n",
       "\\end{tabular}\n"
      ],
      "text/markdown": [
       "\n",
       "A tibble: 2 × 5\n",
       "\n",
       "| Пол &lt;chr&gt; | Количество &lt;int&gt; | 25% &lt;chr&gt; | Медиана &lt;chr&gt; | 75% &lt;chr&gt; |\n",
       "|---|---|---|---|---|\n",
       "| Женщина | 113 | 80 000 | 100 000 | 150 000 |\n",
       "| Мужчина | 267 | 90 000 | 150 000 | 200 000 |\n",
       "\n"
      ],
      "text/plain": [
       "  Пол     Количество 25%    Медиана 75%    \n",
       "1 Женщина 113        80 000 100 000 150 000\n",
       "2 Мужчина 267        90 000 150 000 200 000"
      ]
     },
     "metadata": {},
     "output_type": "display_data"
    },
    {
     "name": "stdout",
     "output_type": "stream",
     "text": [
      "\n",
      "DSML, мало данных"
     ]
    },
    {
     "data": {
      "text/html": [
       "<table>\n",
       "<caption>A tibble: 2 × 5</caption>\n",
       "<thead>\n",
       "\t<tr><th scope=col>Пол</th><th scope=col>Количество</th><th scope=col>25%</th><th scope=col>Медиана</th><th scope=col>75%</th></tr>\n",
       "\t<tr><th scope=col>&lt;chr&gt;</th><th scope=col>&lt;int&gt;</th><th scope=col>&lt;chr&gt;</th><th scope=col>&lt;chr&gt;</th><th scope=col>&lt;chr&gt;</th></tr>\n",
       "</thead>\n",
       "<tbody>\n",
       "\t<tr><td>Женщина</td><td> 9</td><td>300 000</td><td>350 000</td><td>400 000</td></tr>\n",
       "\t<tr><td>Мужчина</td><td>27</td><td>235 000</td><td>387 910</td><td>550 000</td></tr>\n",
       "</tbody>\n",
       "</table>\n"
      ],
      "text/latex": [
       "A tibble: 2 × 5\n",
       "\\begin{tabular}{r|lllll}\n",
       " Пол & Количество & 25\\% & Медиана & 75\\%\\\\\n",
       " <chr> & <int> & <chr> & <chr> & <chr>\\\\\n",
       "\\hline\n",
       "\t Женщина &  9 & 300 000 & 350 000 & 400 000\\\\\n",
       "\t Мужчина & 27 & 235 000 & 387 910 & 550 000\\\\\n",
       "\\end{tabular}\n"
      ],
      "text/markdown": [
       "\n",
       "A tibble: 2 × 5\n",
       "\n",
       "| Пол &lt;chr&gt; | Количество &lt;int&gt; | 25% &lt;chr&gt; | Медиана &lt;chr&gt; | 75% &lt;chr&gt; |\n",
       "|---|---|---|---|---|\n",
       "| Женщина |  9 | 300 000 | 350 000 | 400 000 |\n",
       "| Мужчина | 27 | 235 000 | 387 910 | 550 000 |\n",
       "\n"
      ],
      "text/plain": [
       "  Пол     Количество 25%     Медиана 75%    \n",
       "1 Женщина  9         300 000 350 000 400 000\n",
       "2 Мужчина 27         235 000 387 910 550 000"
      ]
     },
     "metadata": {},
     "output_type": "display_data"
    }
   ],
   "source": [
    "cat('Финансы')\n",
    "build_plot(); \n",
    "cat('\\nФронтенд')\n",
    "build_plot(frontend_mod, 'фронтендщиков')\n",
    "cat('\\nDSML, мало данных')\n",
    "build_plot(dsml, 'аналитиков')"
   ]
  },
  {
   "cell_type": "markdown",
   "metadata": {},
   "source": [
    "## Data Scientists"
   ]
  },
  {
   "cell_type": "code",
   "execution_count": 21,
   "metadata": {},
   "outputs": [
    {
     "data": {
      "image/png": "[encoded data removed]",
      "text/plain": [
       "plot without title"
      ]
     },
     "metadata": {},
     "output_type": "display_data"
    }
   ],
   "source": [
    "dsml %>% \n",
    "    ggplot(aes(x = exp_total)) +\n",
    "    geom_histogram(bins = 40) +\n",
    "    labs(title = 'Work experience', x = 'Experience', y = '')"
   ]
  },
  {
   "cell_type": "code",
   "execution_count": 22,
   "metadata": {},
   "outputs": [
    {
     "data": {
      "text/html": [
       "<table>\n",
       "<caption>A tibble: 2 × 2</caption>\n",
       "<thead>\n",
       "\t<tr><th scope=col>sex</th><th scope=col>n</th></tr>\n",
       "\t<tr><th scope=col>&lt;chr&gt;</th><th scope=col>&lt;int&gt;</th></tr>\n",
       "</thead>\n",
       "<tbody>\n",
       "\t<tr><td>Женщина</td><td>33</td></tr>\n",
       "\t<tr><td>Мужчина</td><td>80</td></tr>\n",
       "</tbody>\n",
       "</table>\n"
      ],
      "text/latex": [
       "A tibble: 2 × 2\n",
       "\\begin{tabular}{r|ll}\n",
       " sex & n\\\\\n",
       " <chr> & <int>\\\\\n",
       "\\hline\n",
       "\t Женщина & 33\\\\\n",
       "\t Мужчина & 80\\\\\n",
       "\\end{tabular}\n"
      ],
      "text/markdown": [
       "\n",
       "A tibble: 2 × 2\n",
       "\n",
       "| sex &lt;chr&gt; | n &lt;int&gt; |\n",
       "|---|---|\n",
       "| Женщина | 33 |\n",
       "| Мужчина | 80 |\n",
       "\n"
      ],
      "text/plain": [
       "  sex     n \n",
       "1 Женщина 33\n",
       "2 Мужчина 80"
      ]
     },
     "metadata": {},
     "output_type": "display_data"
    },
    {
     "data": {
      "image/png": "[encoded data removed]",
      "text/plain": [
       "plot without title"
      ]
     },
     "metadata": {},
     "output_type": "display_data"
    }
   ],
   "source": [
    "dsml %>% \n",
    "    count(sex)\n",
    "\n",
    "dsml %>% \n",
    "    ggplot(aes(x = sex, y = exp_total, fill = sex)) +\n",
    "    geom_violin(color = NA) +\n",
    "    #scale_fill_manual(values = sex_colors_dark) +\n",
    "    labs(title = 'Work experience', x = 'Experience', y = '') +\n",
    "    theme(legend.position = 'none')"
   ]
  },
  {
   "cell_type": "code",
   "execution_count": 23,
   "metadata": {},
   "outputs": [
    {
     "data": {
      "image/png": "[encoded data removed]",
      "text/plain": [
       "plot without title"
      ]
     },
     "metadata": {},
     "output_type": "display_data"
    }
   ],
   "source": [
    "dsml %>% \n",
    "    ggplot(aes(x = age)) +\n",
    "    geom_histogram(bins = 20) +\n",
    "    labs(title = 'Age', x = 'Age', y = '')"
   ]
  },
  {
   "cell_type": "code",
   "execution_count": 24,
   "metadata": {},
   "outputs": [
    {
     "data": {
      "text/html": [
       "<table>\n",
       "<caption>A tibble: 6 × 3</caption>\n",
       "<thead>\n",
       "\t<tr><th scope=col>city</th><th scope=col>n</th><th scope=col>share</th></tr>\n",
       "\t<tr><th scope=col>&lt;chr&gt;</th><th scope=col>&lt;int&gt;</th><th scope=col>&lt;chr&gt;</th></tr>\n",
       "</thead>\n",
       "<tbody>\n",
       "\t<tr><td>Алматы    </td><td>75</td><td>66.4%</td></tr>\n",
       "\t<tr><td>Нур-Султан</td><td>25</td><td>22.1%</td></tr>\n",
       "\t<tr><td>Атырау    </td><td> 9</td><td>8.0% </td></tr>\n",
       "\t<tr><td>Актобе    </td><td> 2</td><td>1.8% </td></tr>\n",
       "\t<tr><td>Караганда </td><td> 1</td><td>0.9% </td></tr>\n",
       "\t<tr><td>Шымкент   </td><td> 1</td><td>0.9% </td></tr>\n",
       "</tbody>\n",
       "</table>\n"
      ],
      "text/latex": [
       "A tibble: 6 × 3\n",
       "\\begin{tabular}{r|lll}\n",
       " city & n & share\\\\\n",
       " <chr> & <int> & <chr>\\\\\n",
       "\\hline\n",
       "\t Алматы     & 75 & 66.4\\%\\\\\n",
       "\t Нур-Султан & 25 & 22.1\\%\\\\\n",
       "\t Атырау     &  9 & 8.0\\% \\\\\n",
       "\t Актобе     &  2 & 1.8\\% \\\\\n",
       "\t Караганда  &  1 & 0.9\\% \\\\\n",
       "\t Шымкент    &  1 & 0.9\\% \\\\\n",
       "\\end{tabular}\n"
      ],
      "text/markdown": [
       "\n",
       "A tibble: 6 × 3\n",
       "\n",
       "| city &lt;chr&gt; | n &lt;int&gt; | share &lt;chr&gt; |\n",
       "|---|---|---|\n",
       "| Алматы     | 75 | 66.4% |\n",
       "| Нур-Султан | 25 | 22.1% |\n",
       "| Атырау     |  9 | 8.0%  |\n",
       "| Актобе     |  2 | 1.8%  |\n",
       "| Караганда  |  1 | 0.9%  |\n",
       "| Шымкент    |  1 | 0.9%  |\n",
       "\n"
      ],
      "text/plain": [
       "  city       n  share\n",
       "1 Алматы     75 66.4%\n",
       "2 Нур-Султан 25 22.1%\n",
       "3 Атырау      9 8.0% \n",
       "4 Актобе      2 1.8% \n",
       "5 Караганда   1 0.9% \n",
       "6 Шымкент     1 0.9% "
      ]
     },
     "metadata": {},
     "output_type": "display_data"
    }
   ],
   "source": [
    "dsml %>% \n",
    "    count(city, sort = T) %>% \n",
    "    mutate(share = scales::percent(n / nrow(dsml)))"
   ]
  },
  {
   "cell_type": "code",
   "execution_count": 25,
   "metadata": {},
   "outputs": [
    {
     "data": {
      "text/html": [
       "<table>\n",
       "<caption>A tibble: 10 × 3</caption>\n",
       "<thead>\n",
       "\t<tr><th scope=col>experience_companies</th><th scope=col>cnt</th><th scope=col>share</th></tr>\n",
       "\t<tr><th scope=col>&lt;chr&gt;</th><th scope=col>&lt;int&gt;</th><th scope=col>&lt;chr&gt;</th></tr>\n",
       "</thead>\n",
       "<tbody>\n",
       "\t<tr><td>Kaspi Bank, АО                       </td><td>10</td><td>8.85%</td></tr>\n",
       "\t<tr><td>Beeline, ТМ                          </td><td> 7</td><td>6.19%</td></tr>\n",
       "\t<tr><td>NU                                   </td><td> 6</td><td>5.31%</td></tr>\n",
       "\t<tr><td>Хоум Кредит Банк, АО                 </td><td> 6</td><td>5.31%</td></tr>\n",
       "\t<tr><td>ESS Support Services LLP             </td><td> 5</td><td>4.42%</td></tr>\n",
       "\t<tr><td>KPMG (Казахстан)                     </td><td> 3</td><td>2.65%</td></tr>\n",
       "\t<tr><td>Банк ЦентрКредит, АО                 </td><td> 3</td><td>2.65%</td></tr>\n",
       "\t<tr><td>BTS Digital                          </td><td> 2</td><td>1.77%</td></tr>\n",
       "\t<tr><td>Fircroft Engineering Services Limited</td><td> 2</td><td>1.77%</td></tr>\n",
       "\t<tr><td>Geovision Group                      </td><td> 2</td><td>1.77%</td></tr>\n",
       "</tbody>\n",
       "</table>\n"
      ],
      "text/latex": [
       "A tibble: 10 × 3\n",
       "\\begin{tabular}{r|lll}\n",
       " experience\\_companies & cnt & share\\\\\n",
       " <chr> & <int> & <chr>\\\\\n",
       "\\hline\n",
       "\t Kaspi Bank, АО                        & 10 & 8.85\\%\\\\\n",
       "\t Beeline, ТМ                           &  7 & 6.19\\%\\\\\n",
       "\t NU                                    &  6 & 5.31\\%\\\\\n",
       "\t Хоум Кредит Банк, АО                  &  6 & 5.31\\%\\\\\n",
       "\t ESS Support Services LLP              &  5 & 4.42\\%\\\\\n",
       "\t KPMG (Казахстан)                      &  3 & 2.65\\%\\\\\n",
       "\t Банк ЦентрКредит, АО                  &  3 & 2.65\\%\\\\\n",
       "\t BTS Digital                           &  2 & 1.77\\%\\\\\n",
       "\t Fircroft Engineering Services Limited &  2 & 1.77\\%\\\\\n",
       "\t Geovision Group                       &  2 & 1.77\\%\\\\\n",
       "\\end{tabular}\n"
      ],
      "text/markdown": [
       "\n",
       "A tibble: 10 × 3\n",
       "\n",
       "| experience_companies &lt;chr&gt; | cnt &lt;int&gt; | share &lt;chr&gt; |\n",
       "|---|---|---|\n",
       "| Kaspi Bank, АО                        | 10 | 8.85% |\n",
       "| Beeline, ТМ                           |  7 | 6.19% |\n",
       "| NU                                    |  6 | 5.31% |\n",
       "| Хоум Кредит Банк, АО                  |  6 | 5.31% |\n",
       "| ESS Support Services LLP              |  5 | 4.42% |\n",
       "| KPMG (Казахстан)                      |  3 | 2.65% |\n",
       "| Банк ЦентрКредит, АО                  |  3 | 2.65% |\n",
       "| BTS Digital                           |  2 | 1.77% |\n",
       "| Fircroft Engineering Services Limited |  2 | 1.77% |\n",
       "| Geovision Group                       |  2 | 1.77% |\n",
       "\n"
      ],
      "text/plain": [
       "   experience_companies                  cnt share\n",
       "1  Kaspi Bank, АО                        10  8.85%\n",
       "2  Beeline, ТМ                            7  6.19%\n",
       "3  NU                                     6  5.31%\n",
       "4  Хоум Кредит Банк, АО                   6  5.31%\n",
       "5  ESS Support Services LLP               5  4.42%\n",
       "6  KPMG (Казахстан)                       3  2.65%\n",
       "7  Банк ЦентрКредит, АО                   3  2.65%\n",
       "8  BTS Digital                            2  1.77%\n",
       "9  Fircroft Engineering Services Limited  2  1.77%\n",
       "10 Geovision Group                        2  1.77%"
      ]
     },
     "metadata": {},
     "output_type": "display_data"
    }
   ],
   "source": [
    "dsml %>% \n",
    "    filter(!is.na(experience_companies)) %>% \n",
    "    select(id, position, experience_companies) %>% \n",
    "    tidyr::separate_rows(experience_companies, sep = '_') %>% \n",
    "    mutate(experience_companies = case_when(str_detect(tolower(experience_companies), 'kaspi|каспи') ~ 'Kaspi Bank, АО',\n",
    "                                            str_detect(tolower(experience_companies), 'назарбаев|nazarbayev') ~ 'NU',\n",
    "                                            str_detect(tolower(experience_companies), 'beeline|2day|билайн') ~ 'Beeline, ТМ',\n",
    "                                            str_detect(tolower(experience_companies), 'ess') ~ 'ESS Support Services LLP',\n",
    "                                            str_detect(tolower(experience_companies), 'home credit|хоум кредит') ~ 'Хоум Кредит Банк, АО',\n",
    "                                           TRUE ~ experience_companies)) %>% \n",
    "    group_by(experience_companies) %>% \n",
    "    summarise(cnt = n_distinct(id)) %>% \n",
    "    ungroup %>% \n",
    "    arrange(-cnt) %>% \n",
    "    head(10) %>% \n",
    "    mutate(share = scales::percent(cnt / nrow(dsml)))"
   ]
  },
  {
   "cell_type": "code",
   "execution_count": 26,
   "metadata": {},
   "outputs": [
    {
     "data": {
      "text/html": [
       "<table>\n",
       "<caption>A tibble: 7 × 3</caption>\n",
       "<thead>\n",
       "\t<tr><th scope=col>education</th><th scope=col>cnt</th><th scope=col>share</th></tr>\n",
       "\t<tr><th scope=col>&lt;chr&gt;</th><th scope=col>&lt;int&gt;</th><th scope=col>&lt;chr&gt;</th></tr>\n",
       "</thead>\n",
       "<tbody>\n",
       "\t<tr><td>SDU   </td><td>19</td><td>16.8%</td></tr>\n",
       "\t<tr><td>МУИТ  </td><td>19</td><td>16.8%</td></tr>\n",
       "\t<tr><td>NU    </td><td>12</td><td>10.6%</td></tr>\n",
       "\t<tr><td>КазНУ </td><td>10</td><td>8.8% </td></tr>\n",
       "\t<tr><td>КБТУ  </td><td> 7</td><td>6.2% </td></tr>\n",
       "\t<tr><td>КазНТУ</td><td> 6</td><td>5.3% </td></tr>\n",
       "\t<tr><td>ЕНУ   </td><td> 5</td><td>4.4% </td></tr>\n",
       "</tbody>\n",
       "</table>\n"
      ],
      "text/latex": [
       "A tibble: 7 × 3\n",
       "\\begin{tabular}{r|lll}\n",
       " education & cnt & share\\\\\n",
       " <chr> & <int> & <chr>\\\\\n",
       "\\hline\n",
       "\t SDU    & 19 & 16.8\\%\\\\\n",
       "\t МУИТ   & 19 & 16.8\\%\\\\\n",
       "\t NU     & 12 & 10.6\\%\\\\\n",
       "\t КазНУ  & 10 & 8.8\\% \\\\\n",
       "\t КБТУ   &  7 & 6.2\\% \\\\\n",
       "\t КазНТУ &  6 & 5.3\\% \\\\\n",
       "\t ЕНУ    &  5 & 4.4\\% \\\\\n",
       "\\end{tabular}\n"
      ],
      "text/markdown": [
       "\n",
       "A tibble: 7 × 3\n",
       "\n",
       "| education &lt;chr&gt; | cnt &lt;int&gt; | share &lt;chr&gt; |\n",
       "|---|---|---|\n",
       "| SDU    | 19 | 16.8% |\n",
       "| МУИТ   | 19 | 16.8% |\n",
       "| NU     | 12 | 10.6% |\n",
       "| КазНУ  | 10 | 8.8%  |\n",
       "| КБТУ   |  7 | 6.2%  |\n",
       "| КазНТУ |  6 | 5.3%  |\n",
       "| ЕНУ    |  5 | 4.4%  |\n",
       "\n"
      ],
      "text/plain": [
       "  education cnt share\n",
       "1 SDU       19  16.8%\n",
       "2 МУИТ      19  16.8%\n",
       "3 NU        12  10.6%\n",
       "4 КазНУ     10  8.8% \n",
       "5 КБТУ       7  6.2% \n",
       "6 КазНТУ     6  5.3% \n",
       "7 ЕНУ        5  4.4% "
      ]
     },
     "metadata": {},
     "output_type": "display_data"
    }
   ],
   "source": [
    "dsml %>% \n",
    "    filter(!is.na(education)) %>% \n",
    "    select(id, position, education) %>% \n",
    "    tidyr::separate_rows(education, sep = '_') %>% \n",
    "    mutate(education = case_when(str_detect(tolower(education), 'демирел|sdu|сду|demirel') ~ 'SDU',\n",
    "                                 str_detect(tolower(education), 'фараби|farabi|казну') ~ 'КазНУ',\n",
    "                                 str_detect(tolower(education), 'назарбаев|nazarbayev') ~ 'NU',\n",
    "                                 str_detect(tolower(education), 'муит|информационных тех|it university|information tech') ~ 'МУИТ',\n",
    "                                 str_detect(tolower(education), 'ену|евразийский|eurasian|гумил') ~ 'ЕНУ',\n",
    "                                 str_detect(tolower(education), 'сатпаева|казнту|национальный техн|satpayev|kazntu') ~ 'КазНТУ',\n",
    "                                 str_detect(tolower(education), 'кбту|британский тех|british tech|kbtu') ~ 'КБТУ',\n",
    "                                 TRUE ~ education)) %>% \n",
    "    group_by(education) %>% \n",
    "    summarise(cnt = n_distinct(id)) %>% \n",
    "    ungroup %>%\n",
    "    arrange(-cnt) %>% \n",
    "    head(7) %>% \n",
    "    mutate(share = scales::percent(cnt / nrow(dsml)))"
   ]
  },
  {
   "cell_type": "code",
   "execution_count": 27,
   "metadata": {},
   "outputs": [
    {
     "data": {
      "text/html": [
       "<table>\n",
       "<caption>A tibble: 10 × 3</caption>\n",
       "<thead>\n",
       "\t<tr><th scope=col>skills</th><th scope=col>cnt</th><th scope=col>share</th></tr>\n",
       "\t<tr><th scope=col>&lt;chr&gt;</th><th scope=col>&lt;int&gt;</th><th scope=col>&lt;chr&gt;</th></tr>\n",
       "</thead>\n",
       "<tbody>\n",
       "\t<tr><td>python          </td><td>71</td><td>62.8%</td></tr>\n",
       "\t<tr><td>sql             </td><td>39</td><td>34.5%</td></tr>\n",
       "\t<tr><td>data analysis   </td><td>38</td><td>33.6%</td></tr>\n",
       "\t<tr><td>machine learning</td><td>24</td><td>21.2%</td></tr>\n",
       "\t<tr><td>java            </td><td>22</td><td>19.5%</td></tr>\n",
       "\t<tr><td>ms excel        </td><td>21</td><td>18.6%</td></tr>\n",
       "\t<tr><td>mysql           </td><td>20</td><td>17.7%</td></tr>\n",
       "\t<tr><td>data mining     </td><td>19</td><td>16.8%</td></tr>\n",
       "\t<tr><td>ms office       </td><td>19</td><td>16.8%</td></tr>\n",
       "\t<tr><td>английский язык </td><td>19</td><td>16.8%</td></tr>\n",
       "</tbody>\n",
       "</table>\n"
      ],
      "text/latex": [
       "A tibble: 10 × 3\n",
       "\\begin{tabular}{r|lll}\n",
       " skills & cnt & share\\\\\n",
       " <chr> & <int> & <chr>\\\\\n",
       "\\hline\n",
       "\t python           & 71 & 62.8\\%\\\\\n",
       "\t sql              & 39 & 34.5\\%\\\\\n",
       "\t data analysis    & 38 & 33.6\\%\\\\\n",
       "\t machine learning & 24 & 21.2\\%\\\\\n",
       "\t java             & 22 & 19.5\\%\\\\\n",
       "\t ms excel         & 21 & 18.6\\%\\\\\n",
       "\t mysql            & 20 & 17.7\\%\\\\\n",
       "\t data mining      & 19 & 16.8\\%\\\\\n",
       "\t ms office        & 19 & 16.8\\%\\\\\n",
       "\t английский язык  & 19 & 16.8\\%\\\\\n",
       "\\end{tabular}\n"
      ],
      "text/markdown": [
       "\n",
       "A tibble: 10 × 3\n",
       "\n",
       "| skills &lt;chr&gt; | cnt &lt;int&gt; | share &lt;chr&gt; |\n",
       "|---|---|---|\n",
       "| python           | 71 | 62.8% |\n",
       "| sql              | 39 | 34.5% |\n",
       "| data analysis    | 38 | 33.6% |\n",
       "| machine learning | 24 | 21.2% |\n",
       "| java             | 22 | 19.5% |\n",
       "| ms excel         | 21 | 18.6% |\n",
       "| mysql            | 20 | 17.7% |\n",
       "| data mining      | 19 | 16.8% |\n",
       "| ms office        | 19 | 16.8% |\n",
       "| английский язык  | 19 | 16.8% |\n",
       "\n"
      ],
      "text/plain": [
       "   skills           cnt share\n",
       "1  python           71  62.8%\n",
       "2  sql              39  34.5%\n",
       "3  data analysis    38  33.6%\n",
       "4  machine learning 24  21.2%\n",
       "5  java             22  19.5%\n",
       "6  ms excel         21  18.6%\n",
       "7  mysql            20  17.7%\n",
       "8  data mining      19  16.8%\n",
       "9  ms office        19  16.8%\n",
       "10 английский язык  19  16.8%"
      ]
     },
     "metadata": {},
     "output_type": "display_data"
    }
   ],
   "source": [
    "skills_table <- \n",
    "    dsml %>% \n",
    "    filter(!is.na(skills)) %>% \n",
    "    select(id, position, skills) %>% \n",
    "    tidyr::separate_rows(skills, sep = '_') %>% \n",
    "    group_by(skills) %>% \n",
    "    summarise(cnt = n_distinct(id)) %>% \n",
    "    arrange(-cnt) %>% \n",
    "    filter(cnt > 1)\n",
    "\n",
    "skills_table %>% \n",
    "    head(10) %>% \n",
    "    mutate(share = scales::percent(cnt / nrow(dsml)))"
   ]
  },
  {
   "cell_type": "code",
   "execution_count": 28,
   "metadata": {},
   "outputs": [
    {
     "data": {
      "text/html": [
       "<!doctype html>\n",
       "<html>\n",
       "\t<head>\n",
       "\t\t<meta charset=\"utf-8\">\n",
       "\t\t<script title=\"htmlwidgets\" src=\"data:application/javascript;base64,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\"></script>\n",
       "<script title=\"wordcloud2\" src=\"data:application/javascript;base64,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\"></script>\n",
       "<script title=\"wordcloud2\" src=\"data:application/javascript;base64,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\"></script>\n",
       "<link href=\"data:text/css;charset-utf-8;base64,Ci53Y0xhYmVsIHsKICBwb3NpdGlvbjogYWJzb2x1dGU7CiAgYm9yZGVyOiAycHggc29saWQgI2ZmZjsKICBib3gtc2hhZG93OiAwIDAgNHB4IDAgIzAwODsKICBwYWRkaW5nOiAycHg7CiAgLyptYXJnaW46IC00cHggMCAwIC00cHg7Ki8KICBwb2ludGVyLWV2ZW50czogbm9uZTsgfQoKLndjU3BhbiB7CiAgcG9zaXRpb246IGFic29sdXRlOwogIHRvcDogMTAwJTsKICBsZWZ0OiAwOwogIGJhY2tncm91bmQtY29sb3I6IHJnYmEoMjU1LCAyNTUsIDI1NSwgMC44KTsKICBjb2xvcjogIzMzMzsKICBtYXJnaW4tdG9wOiA2cHg7CiAgcGFkZGluZzogMCAwLjVlbTsKICBib3JkZXItcmFkaXVzOiAwLjVlbTsKICB3aGl0ZS1zcGFjZTogbm93cmFwOyB9CiAg\" rel=\"stylesheet\" />\n",
       "<script title=\"wordcloud2-binding\" src=\"data:application/javascript;base64,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\"></script>\n",
       "\t</head>\n",
       "\t<body>\n",
       "\t\t<div id=\"htmlwidget-ce5629664438872bf179\" style=\"width:960px;height:500px;\" class=\"wordcloud2 html-widget\"></div>\n",
       "<script type=\"application/json\" data-for=\"htmlwidget-ce5629664438872bf179\">{\"x\":{\"word\":[\"python\",\"sql\",\"data analysis\",\"machine learning\",\"java\",\"ms excel\",\"mysql\",\"data mining\",\"ms office\",\"английский язык\",\"big data\",\"ms powerpoint\",\"html\",\"git\",\"javascript\",\"linux\",\"postgresql\",\"oracle pl/sql\",\"pandas\",\"sas\",\"анализ данных\",\"работа в команде\",\"vba\",\"пользователь пк\",\"css\",\"numpy\",\"project management\",\"analytical skills\",\"business analysis\",\"ms sql\",\"математическая статистика\",\"работа с базами данных\",\"deep learning\",\"matlab\",\"php\",\"power bi\",\"presentation skills\",\"r\",\"аналитические исследования\",\"c++\",\"ms outlook\",\"regression analysis\",\"аналитическое мышление\",\"организаторские навыки\",\"статистический анализ\",\"управление проектами\",\"adobe photoshop\",\"business english\",\"c#\",\"c/c++\",\"data science\",\"ms access\",\"oracle\",\"statistics\",\"базы данных\",\"ведение переговоров\",\"грамотная речь\",\"деловая переписка\",\"математический анализ\",\"ооп\",\"работа с большим объемом информации\",\"django framework\",\"financial analysis\",\"mathematical statistics\",\"ms word\",\"sap\",\"sklearn\",\"tableau\",\"time management\",\"data mining: business analytica\",\"jquery\",\"keras\",\"latex\",\"mathematical modeling\",\"neural networks\",\"nlp\",\"organization skills\",\"r programming\",\"sas guide\",\"scrum\",\"sql server\",\"tensorflow\",\"аналитика\",\"аналитический склад ума\",\"прогнозирование\",\"умение работать в команде\",\"1c: бухгалтерия\",\"autocad\",\"bootstrap\",\"business intelligence systems\",\"cms wordpress\",\"communication skills\",\"corporate finance\",\"databases\",\"google analytics\",\"hadoop\",\"java ee\",\"java se\",\"jupyter notebook\",\"mac os\",\"market research\",\"r studio\",\"sas miner\",\"scikit-learn\",\"spss\",\"stata\",\"teamplayer\",\"водительское удостоверение категории b\",\"коммуникабельность\",\"математическое моделирование\",\"машинное обучение\",\"навыки презентации\",\"обучение персонала\",\"подготовка презентаций\",\"проведение презентаций\",\"стрессоустойчивость\",\"управление персоналом\",\"1с: бухгалтерия\",\"adobe premier pro\",\"agile\",\"ajax\",\"android\",\"android sdk\",\"arduino\",\"bloomberg\",\"busines valuation\",\"business development\",\"c programming\",\"cluster analysis\",\"computer vision\",\"coreldraw\",\"css3\",\"data mining: acnielsen\",\"data mining: statistica\",\"driving licence b\",\"financial modelling\",\"github\",\"html5\",\"internet\",\"interpersonal skills\",\"ios\",\"leadership skills\",\"mathematical analysis\",\"mathematical programming\",\"matplotlib\",\"mongodb\",\"ms power builder\",\"ms sql server\",\"ms visio\",\"ms visual basic\",\"ms visual studio\",\"negotiation skills\",\"power pivot\",\"power query\",\"powerbi\",\"responsibility\",\"risk management\",\"ruby on rails\",\"sales skills\",\"sap erp\",\"spark\",\"sqlite\",\"team management\",\"teambuilding\",\"time series analysis\",\"visual studio c#\",\"visualisation\",\"windows os\",\"анализ рисков\",\"знание иностранных языков\",\"ориентация на результат\",\"ответственность\",\"разработка технических заданий\",\"регрессионный анализ\",\"телефонные переговоры\",\"целеустремленность\",\"экономический анализ\"],\"freq\":[71,39,38,24,22,21,20,19,19,19,18,17,15,14,14,14,13,12,12,12,12,12,11,11,10,10,10,9,9,9,9,9,8,8,8,8,8,8,8,7,7,7,7,7,7,7,6,6,6,6,6,6,6,6,6,6,6,6,6,6,6,5,5,5,5,5,5,5,5,4,4,4,4,4,4,4,4,4,4,4,4,4,4,4,4,4,3,3,3,3,3,3,3,3,3,3,3,3,3,3,3,3,3,3,3,3,3,3,3,3,3,3,3,3,3,3,3,2,2,2,2,2,2,2,2,2,2,2,2,2,2,2,2,2,2,2,2,2,2,2,2,2,2,2,2,2,2,2,2,2,2,2,2,2,2,2,2,2,2,2,2,2,2,2,2,2,2,2,2,2,2,2,2,2,2,2,2],\"fontFamily\":\"Segoe UI\",\"fontWeight\":\"bold\",\"color\":\"random-dark\",\"minSize\":0,\"weightFactor\":2.53521126760563,\"backgroundColor\":\"white\",\"gridSize\":0,\"minRotation\":-0.785398163397448,\"maxRotation\":0.785398163397448,\"shuffle\":true,\"rotateRatio\":0.4,\"shape\":\"circle\",\"ellipticity\":0.65,\"figBase64\":null,\"hover\":null},\"evals\":[],\"jsHooks\":[]}</script>\n",
       "\t</body>\n",
       "</html>\n"
      ],
      "text/plain": [
       "HTML widgets cannot be represented in plain text (need html)"
      ]
     },
     "metadata": {
      "text/html": {
       "isolated": true
      }
     },
     "output_type": "display_data"
    }
   ],
   "source": [
    "skills_table %>% \n",
    "    setNames(c('word', 'freq')) %>% \n",
    "    wordcloud2(.)"
   ]
  }
 ],
 "metadata": {
  "kernelspec": {
   "display_name": "R",
   "language": "R",
   "name": "ir"
  },
  "language_info": {
   "codemirror_mode": "r",
   "file_extension": ".r",
   "mimetype": "text/x-r-source",
   "name": "R",
   "pygments_lexer": "r",
   "version": "3.5.1"
  }
 },
 "nbformat": 4,
 "nbformat_minor": 2
}
